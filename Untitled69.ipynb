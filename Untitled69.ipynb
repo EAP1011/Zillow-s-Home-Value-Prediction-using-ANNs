{
  "nbformat": 4,
  "nbformat_minor": 0,
  "metadata": {
    "colab": {
      "name": "Untitled69.ipynb",
      "provenance": [],
      "collapsed_sections": []
    },
    "kernelspec": {
      "name": "python3",
      "display_name": "Python 3"
    },
    "language_info": {
      "name": "python"
    }
  },
  "cells": [
    {
      "cell_type": "code",
      "metadata": {
        "id": "FllA-wQyJnuK"
      },
      "source": [
        "import pandas as pd\n",
        "import numpy as np\n",
        "import matplotlib.pyplot as plt"
      ],
      "execution_count": 158,
      "outputs": []
    },
    {
      "cell_type": "code",
      "metadata": {
        "colab": {
          "base_uri": "https://localhost:8080/",
          "height": 202
        },
        "id": "3PcNCUcgJ3gQ",
        "outputId": "18dc48f2-84a4-4399-e51d-12b5128ee506"
      },
      "source": [
        "df=pd.read_csv('housepricedata.csv')\n",
        "df.head()"
      ],
      "execution_count": 159,
      "outputs": [
        {
          "output_type": "execute_result",
          "data": {
            "text/html": [
              "<div>\n",
              "<style scoped>\n",
              "    .dataframe tbody tr th:only-of-type {\n",
              "        vertical-align: middle;\n",
              "    }\n",
              "\n",
              "    .dataframe tbody tr th {\n",
              "        vertical-align: top;\n",
              "    }\n",
              "\n",
              "    .dataframe thead th {\n",
              "        text-align: right;\n",
              "    }\n",
              "</style>\n",
              "<table border=\"1\" class=\"dataframe\">\n",
              "  <thead>\n",
              "    <tr style=\"text-align: right;\">\n",
              "      <th></th>\n",
              "      <th>LotArea</th>\n",
              "      <th>OverallQual</th>\n",
              "      <th>OverallCond</th>\n",
              "      <th>TotalBsmtSF</th>\n",
              "      <th>FullBath</th>\n",
              "      <th>HalfBath</th>\n",
              "      <th>BedroomAbvGr</th>\n",
              "      <th>TotRmsAbvGrd</th>\n",
              "      <th>Fireplaces</th>\n",
              "      <th>GarageArea</th>\n",
              "      <th>AboveMedianPrice</th>\n",
              "    </tr>\n",
              "  </thead>\n",
              "  <tbody>\n",
              "    <tr>\n",
              "      <th>0</th>\n",
              "      <td>8450</td>\n",
              "      <td>7</td>\n",
              "      <td>5</td>\n",
              "      <td>856</td>\n",
              "      <td>2</td>\n",
              "      <td>1</td>\n",
              "      <td>3</td>\n",
              "      <td>8</td>\n",
              "      <td>0</td>\n",
              "      <td>548</td>\n",
              "      <td>1</td>\n",
              "    </tr>\n",
              "    <tr>\n",
              "      <th>1</th>\n",
              "      <td>9600</td>\n",
              "      <td>6</td>\n",
              "      <td>8</td>\n",
              "      <td>1262</td>\n",
              "      <td>2</td>\n",
              "      <td>0</td>\n",
              "      <td>3</td>\n",
              "      <td>6</td>\n",
              "      <td>1</td>\n",
              "      <td>460</td>\n",
              "      <td>1</td>\n",
              "    </tr>\n",
              "    <tr>\n",
              "      <th>2</th>\n",
              "      <td>11250</td>\n",
              "      <td>7</td>\n",
              "      <td>5</td>\n",
              "      <td>920</td>\n",
              "      <td>2</td>\n",
              "      <td>1</td>\n",
              "      <td>3</td>\n",
              "      <td>6</td>\n",
              "      <td>1</td>\n",
              "      <td>608</td>\n",
              "      <td>1</td>\n",
              "    </tr>\n",
              "    <tr>\n",
              "      <th>3</th>\n",
              "      <td>9550</td>\n",
              "      <td>7</td>\n",
              "      <td>5</td>\n",
              "      <td>756</td>\n",
              "      <td>1</td>\n",
              "      <td>0</td>\n",
              "      <td>3</td>\n",
              "      <td>7</td>\n",
              "      <td>1</td>\n",
              "      <td>642</td>\n",
              "      <td>0</td>\n",
              "    </tr>\n",
              "    <tr>\n",
              "      <th>4</th>\n",
              "      <td>14260</td>\n",
              "      <td>8</td>\n",
              "      <td>5</td>\n",
              "      <td>1145</td>\n",
              "      <td>2</td>\n",
              "      <td>1</td>\n",
              "      <td>4</td>\n",
              "      <td>9</td>\n",
              "      <td>1</td>\n",
              "      <td>836</td>\n",
              "      <td>1</td>\n",
              "    </tr>\n",
              "  </tbody>\n",
              "</table>\n",
              "</div>"
            ],
            "text/plain": [
              "   LotArea  OverallQual  OverallCond  ...  Fireplaces  GarageArea  AboveMedianPrice\n",
              "0     8450            7            5  ...           0         548                 1\n",
              "1     9600            6            8  ...           1         460                 1\n",
              "2    11250            7            5  ...           1         608                 1\n",
              "3     9550            7            5  ...           1         642                 0\n",
              "4    14260            8            5  ...           1         836                 1\n",
              "\n",
              "[5 rows x 11 columns]"
            ]
          },
          "metadata": {
            "tags": []
          },
          "execution_count": 159
        }
      ]
    },
    {
      "cell_type": "code",
      "metadata": {
        "colab": {
          "base_uri": "https://localhost:8080/"
        },
        "id": "mi2eaUrg8GXa",
        "outputId": "3cfce503-7736-480b-9f12-c21eb9deb20d"
      },
      "source": [
        "df.info()"
      ],
      "execution_count": 160,
      "outputs": [
        {
          "output_type": "stream",
          "text": [
            "<class 'pandas.core.frame.DataFrame'>\n",
            "RangeIndex: 1460 entries, 0 to 1459\n",
            "Data columns (total 11 columns):\n",
            " #   Column            Non-Null Count  Dtype\n",
            "---  ------            --------------  -----\n",
            " 0   LotArea           1460 non-null   int64\n",
            " 1   OverallQual       1460 non-null   int64\n",
            " 2   OverallCond       1460 non-null   int64\n",
            " 3   TotalBsmtSF       1460 non-null   int64\n",
            " 4   FullBath          1460 non-null   int64\n",
            " 5   HalfBath          1460 non-null   int64\n",
            " 6   BedroomAbvGr      1460 non-null   int64\n",
            " 7   TotRmsAbvGrd      1460 non-null   int64\n",
            " 8   Fireplaces        1460 non-null   int64\n",
            " 9   GarageArea        1460 non-null   int64\n",
            " 10  AboveMedianPrice  1460 non-null   int64\n",
            "dtypes: int64(11)\n",
            "memory usage: 125.6 KB\n"
          ],
          "name": "stdout"
        }
      ]
    },
    {
      "cell_type": "code",
      "metadata": {
        "colab": {
          "base_uri": "https://localhost:8080/"
        },
        "id": "FxNSiN50-SP_",
        "outputId": "05ff2173-f24e-470f-fbc8-3bb58ef19838"
      },
      "source": [
        "df.values"
      ],
      "execution_count": 161,
      "outputs": [
        {
          "output_type": "execute_result",
          "data": {
            "text/plain": [
              "array([[ 8450,     7,     5, ...,     0,   548,     1],\n",
              "       [ 9600,     6,     8, ...,     1,   460,     1],\n",
              "       [11250,     7,     5, ...,     1,   608,     1],\n",
              "       ...,\n",
              "       [ 9042,     7,     9, ...,     2,   252,     1],\n",
              "       [ 9717,     5,     6, ...,     0,   240,     0],\n",
              "       [ 9937,     5,     6, ...,     0,   276,     0]])"
            ]
          },
          "metadata": {
            "tags": []
          },
          "execution_count": 161
        }
      ]
    },
    {
      "cell_type": "code",
      "metadata": {
        "id": "KQFf-J2W88Fi"
      },
      "source": [
        "x = df.values #returns a numpy array\n",
        "from sklearn import preprocessing\n",
        "min_max_scaler = preprocessing.MinMaxScaler()\n",
        "x_scaled = min_max_scaler.fit_transform(x)\n",
        "df = pd.DataFrame(x_scaled)"
      ],
      "execution_count": 162,
      "outputs": []
    },
    {
      "cell_type": "code",
      "metadata": {
        "colab": {
          "base_uri": "https://localhost:8080/",
          "height": 202
        },
        "id": "7bS4qsIK9MBx",
        "outputId": "b95c5f65-4d16-4d94-c829-b1c1549c8f58"
      },
      "source": [
        "df.head()"
      ],
      "execution_count": 163,
      "outputs": [
        {
          "output_type": "execute_result",
          "data": {
            "text/html": [
              "<div>\n",
              "<style scoped>\n",
              "    .dataframe tbody tr th:only-of-type {\n",
              "        vertical-align: middle;\n",
              "    }\n",
              "\n",
              "    .dataframe tbody tr th {\n",
              "        vertical-align: top;\n",
              "    }\n",
              "\n",
              "    .dataframe thead th {\n",
              "        text-align: right;\n",
              "    }\n",
              "</style>\n",
              "<table border=\"1\" class=\"dataframe\">\n",
              "  <thead>\n",
              "    <tr style=\"text-align: right;\">\n",
              "      <th></th>\n",
              "      <th>0</th>\n",
              "      <th>1</th>\n",
              "      <th>2</th>\n",
              "      <th>3</th>\n",
              "      <th>4</th>\n",
              "      <th>5</th>\n",
              "      <th>6</th>\n",
              "      <th>7</th>\n",
              "      <th>8</th>\n",
              "      <th>9</th>\n",
              "      <th>10</th>\n",
              "    </tr>\n",
              "  </thead>\n",
              "  <tbody>\n",
              "    <tr>\n",
              "      <th>0</th>\n",
              "      <td>0.033420</td>\n",
              "      <td>0.666667</td>\n",
              "      <td>0.500</td>\n",
              "      <td>0.140098</td>\n",
              "      <td>0.666667</td>\n",
              "      <td>0.5</td>\n",
              "      <td>0.375</td>\n",
              "      <td>0.500000</td>\n",
              "      <td>0.000000</td>\n",
              "      <td>0.386460</td>\n",
              "      <td>1.0</td>\n",
              "    </tr>\n",
              "    <tr>\n",
              "      <th>1</th>\n",
              "      <td>0.038795</td>\n",
              "      <td>0.555556</td>\n",
              "      <td>0.875</td>\n",
              "      <td>0.206547</td>\n",
              "      <td>0.666667</td>\n",
              "      <td>0.0</td>\n",
              "      <td>0.375</td>\n",
              "      <td>0.333333</td>\n",
              "      <td>0.333333</td>\n",
              "      <td>0.324401</td>\n",
              "      <td>1.0</td>\n",
              "    </tr>\n",
              "    <tr>\n",
              "      <th>2</th>\n",
              "      <td>0.046507</td>\n",
              "      <td>0.666667</td>\n",
              "      <td>0.500</td>\n",
              "      <td>0.150573</td>\n",
              "      <td>0.666667</td>\n",
              "      <td>0.5</td>\n",
              "      <td>0.375</td>\n",
              "      <td>0.333333</td>\n",
              "      <td>0.333333</td>\n",
              "      <td>0.428773</td>\n",
              "      <td>1.0</td>\n",
              "    </tr>\n",
              "    <tr>\n",
              "      <th>3</th>\n",
              "      <td>0.038561</td>\n",
              "      <td>0.666667</td>\n",
              "      <td>0.500</td>\n",
              "      <td>0.123732</td>\n",
              "      <td>0.333333</td>\n",
              "      <td>0.0</td>\n",
              "      <td>0.375</td>\n",
              "      <td>0.416667</td>\n",
              "      <td>0.333333</td>\n",
              "      <td>0.452750</td>\n",
              "      <td>0.0</td>\n",
              "    </tr>\n",
              "    <tr>\n",
              "      <th>4</th>\n",
              "      <td>0.060576</td>\n",
              "      <td>0.777778</td>\n",
              "      <td>0.500</td>\n",
              "      <td>0.187398</td>\n",
              "      <td>0.666667</td>\n",
              "      <td>0.5</td>\n",
              "      <td>0.500</td>\n",
              "      <td>0.583333</td>\n",
              "      <td>0.333333</td>\n",
              "      <td>0.589563</td>\n",
              "      <td>1.0</td>\n",
              "    </tr>\n",
              "  </tbody>\n",
              "</table>\n",
              "</div>"
            ],
            "text/plain": [
              "         0         1      2         3   ...        7         8         9    10\n",
              "0  0.033420  0.666667  0.500  0.140098  ...  0.500000  0.000000  0.386460  1.0\n",
              "1  0.038795  0.555556  0.875  0.206547  ...  0.333333  0.333333  0.324401  1.0\n",
              "2  0.046507  0.666667  0.500  0.150573  ...  0.333333  0.333333  0.428773  1.0\n",
              "3  0.038561  0.666667  0.500  0.123732  ...  0.416667  0.333333  0.452750  0.0\n",
              "4  0.060576  0.777778  0.500  0.187398  ...  0.583333  0.333333  0.589563  1.0\n",
              "\n",
              "[5 rows x 11 columns]"
            ]
          },
          "metadata": {
            "tags": []
          },
          "execution_count": 163
        }
      ]
    },
    {
      "cell_type": "code",
      "metadata": {
        "id": "i6EJHC4J9Pzx"
      },
      "source": [
        "df.rename(columns = {0:'LotArea',1:\"OverallQual\",2:\"OverallCond\", 3:\"TotalBsmtSF\", 4:\"FullBath\",5:\"HalfBath\",6:\"HalfBath\",7:\"TotRmsAbvGrd\",8:\"Fireplaces\"\n",
        ",9:\"GarageArea\", 10:\"AboveMedianPrice\"}, inplace = True)"
      ],
      "execution_count": 164,
      "outputs": []
    },
    {
      "cell_type": "code",
      "metadata": {
        "colab": {
          "base_uri": "https://localhost:8080/",
          "height": 202
        },
        "id": "lvezvTbuBg7M",
        "outputId": "e06ae97c-6f62-41de-97f7-7596688fa467"
      },
      "source": [
        "df.head()"
      ],
      "execution_count": 165,
      "outputs": [
        {
          "output_type": "execute_result",
          "data": {
            "text/html": [
              "<div>\n",
              "<style scoped>\n",
              "    .dataframe tbody tr th:only-of-type {\n",
              "        vertical-align: middle;\n",
              "    }\n",
              "\n",
              "    .dataframe tbody tr th {\n",
              "        vertical-align: top;\n",
              "    }\n",
              "\n",
              "    .dataframe thead th {\n",
              "        text-align: right;\n",
              "    }\n",
              "</style>\n",
              "<table border=\"1\" class=\"dataframe\">\n",
              "  <thead>\n",
              "    <tr style=\"text-align: right;\">\n",
              "      <th></th>\n",
              "      <th>LotArea</th>\n",
              "      <th>OverallQual</th>\n",
              "      <th>OverallCond</th>\n",
              "      <th>TotalBsmtSF</th>\n",
              "      <th>FullBath</th>\n",
              "      <th>HalfBath</th>\n",
              "      <th>HalfBath</th>\n",
              "      <th>TotRmsAbvGrd</th>\n",
              "      <th>Fireplaces</th>\n",
              "      <th>GarageArea</th>\n",
              "      <th>AboveMedianPrice</th>\n",
              "    </tr>\n",
              "  </thead>\n",
              "  <tbody>\n",
              "    <tr>\n",
              "      <th>0</th>\n",
              "      <td>0.033420</td>\n",
              "      <td>0.666667</td>\n",
              "      <td>0.500</td>\n",
              "      <td>0.140098</td>\n",
              "      <td>0.666667</td>\n",
              "      <td>0.5</td>\n",
              "      <td>0.375</td>\n",
              "      <td>0.500000</td>\n",
              "      <td>0.000000</td>\n",
              "      <td>0.386460</td>\n",
              "      <td>1.0</td>\n",
              "    </tr>\n",
              "    <tr>\n",
              "      <th>1</th>\n",
              "      <td>0.038795</td>\n",
              "      <td>0.555556</td>\n",
              "      <td>0.875</td>\n",
              "      <td>0.206547</td>\n",
              "      <td>0.666667</td>\n",
              "      <td>0.0</td>\n",
              "      <td>0.375</td>\n",
              "      <td>0.333333</td>\n",
              "      <td>0.333333</td>\n",
              "      <td>0.324401</td>\n",
              "      <td>1.0</td>\n",
              "    </tr>\n",
              "    <tr>\n",
              "      <th>2</th>\n",
              "      <td>0.046507</td>\n",
              "      <td>0.666667</td>\n",
              "      <td>0.500</td>\n",
              "      <td>0.150573</td>\n",
              "      <td>0.666667</td>\n",
              "      <td>0.5</td>\n",
              "      <td>0.375</td>\n",
              "      <td>0.333333</td>\n",
              "      <td>0.333333</td>\n",
              "      <td>0.428773</td>\n",
              "      <td>1.0</td>\n",
              "    </tr>\n",
              "    <tr>\n",
              "      <th>3</th>\n",
              "      <td>0.038561</td>\n",
              "      <td>0.666667</td>\n",
              "      <td>0.500</td>\n",
              "      <td>0.123732</td>\n",
              "      <td>0.333333</td>\n",
              "      <td>0.0</td>\n",
              "      <td>0.375</td>\n",
              "      <td>0.416667</td>\n",
              "      <td>0.333333</td>\n",
              "      <td>0.452750</td>\n",
              "      <td>0.0</td>\n",
              "    </tr>\n",
              "    <tr>\n",
              "      <th>4</th>\n",
              "      <td>0.060576</td>\n",
              "      <td>0.777778</td>\n",
              "      <td>0.500</td>\n",
              "      <td>0.187398</td>\n",
              "      <td>0.666667</td>\n",
              "      <td>0.5</td>\n",
              "      <td>0.500</td>\n",
              "      <td>0.583333</td>\n",
              "      <td>0.333333</td>\n",
              "      <td>0.589563</td>\n",
              "      <td>1.0</td>\n",
              "    </tr>\n",
              "  </tbody>\n",
              "</table>\n",
              "</div>"
            ],
            "text/plain": [
              "    LotArea  OverallQual  OverallCond  ...  Fireplaces  GarageArea  AboveMedianPrice\n",
              "0  0.033420     0.666667        0.500  ...    0.000000    0.386460               1.0\n",
              "1  0.038795     0.555556        0.875  ...    0.333333    0.324401               1.0\n",
              "2  0.046507     0.666667        0.500  ...    0.333333    0.428773               1.0\n",
              "3  0.038561     0.666667        0.500  ...    0.333333    0.452750               0.0\n",
              "4  0.060576     0.777778        0.500  ...    0.333333    0.589563               1.0\n",
              "\n",
              "[5 rows x 11 columns]"
            ]
          },
          "metadata": {
            "tags": []
          },
          "execution_count": 165
        }
      ]
    },
    {
      "cell_type": "code",
      "metadata": {
        "id": "dowh7iZNYck3"
      },
      "source": [
        "Y=df[['AboveMedianPrice']]\n",
        "X=df.loc[:, df.columns!= 'AboveMedianPrice']"
      ],
      "execution_count": 166,
      "outputs": []
    },
    {
      "cell_type": "code",
      "metadata": {
        "id": "DCdTFaKyZB0z"
      },
      "source": [
        "from sklearn.model_selection import train_test_split"
      ],
      "execution_count": 167,
      "outputs": []
    },
    {
      "cell_type": "code",
      "metadata": {
        "id": "jV_f0TB1aGZx"
      },
      "source": [
        "X_train, X_test, Y_train, Y_test = train_test_split(X, Y, test_size=0.2, random_state=42)"
      ],
      "execution_count": 168,
      "outputs": []
    },
    {
      "cell_type": "code",
      "metadata": {
        "colab": {
          "base_uri": "https://localhost:8080/"
        },
        "id": "mp2OuZWbcxFk",
        "outputId": "967fff92-e927-4648-d15c-0429e3fd8e0e"
      },
      "source": [
        "print(X_train.shape)\n",
        "print(X_test.shape)\n",
        "print(Y_train.shape)\n",
        "print(Y_test.shape)"
      ],
      "execution_count": 169,
      "outputs": [
        {
          "output_type": "stream",
          "text": [
            "(1168, 10)\n",
            "(292, 10)\n",
            "(1168, 1)\n",
            "(292, 1)\n"
          ],
          "name": "stdout"
        }
      ]
    },
    {
      "cell_type": "code",
      "metadata": {
        "id": "Y8HyPm7Rdcrl"
      },
      "source": [
        "from numpy import loadtxt\n",
        "from keras.models import Sequential\n",
        "from keras.layers import Dense"
      ],
      "execution_count": 170,
      "outputs": []
    },
    {
      "cell_type": "code",
      "metadata": {
        "id": "dHAqTotpd1Jh"
      },
      "source": [
        "model = Sequential()\n",
        "model.add(Dense(12, input_dim=10, activation='relu'))\n",
        "model.add(Dense(32, activation='relu'))\n",
        "model.add(Dense(64, activation='relu'))\n",
        "model.add(Dense(32, activation='relu'))\n",
        "model.add(Dense(1, activation='sigmoid'))"
      ],
      "execution_count": 171,
      "outputs": []
    },
    {
      "cell_type": "code",
      "metadata": {
        "id": "9ADDSlYdeTGo"
      },
      "source": [
        "model.compile(loss='binary_crossentropy', optimizer='adam', metrics=['accuracy'])"
      ],
      "execution_count": 172,
      "outputs": []
    },
    {
      "cell_type": "code",
      "metadata": {
        "colab": {
          "base_uri": "https://localhost:8080/"
        },
        "id": "aGksdhr0iELF",
        "outputId": "fb7e1c9a-cf71-44ca-d334-4022d7fdbe87"
      },
      "source": [
        "hist=model.fit(X_train, Y_train, epochs=100, batch_size=10)"
      ],
      "execution_count": 173,
      "outputs": [
        {
          "output_type": "stream",
          "text": [
            "Epoch 1/100\n",
            "117/117 [==============================] - 1s 2ms/step - loss: 0.6317 - accuracy: 0.6295\n",
            "Epoch 2/100\n",
            "117/117 [==============================] - 0s 2ms/step - loss: 0.3822 - accuracy: 0.8553\n",
            "Epoch 3/100\n",
            "117/117 [==============================] - 0s 2ms/step - loss: 0.3485 - accuracy: 0.8583\n",
            "Epoch 4/100\n",
            "117/117 [==============================] - 0s 2ms/step - loss: 0.2856 - accuracy: 0.8918\n",
            "Epoch 5/100\n",
            "117/117 [==============================] - 0s 2ms/step - loss: 0.3036 - accuracy: 0.8707\n",
            "Epoch 6/100\n",
            "117/117 [==============================] - 0s 2ms/step - loss: 0.3038 - accuracy: 0.8856\n",
            "Epoch 7/100\n",
            "117/117 [==============================] - 0s 2ms/step - loss: 0.3036 - accuracy: 0.8697\n",
            "Epoch 8/100\n",
            "117/117 [==============================] - 0s 1ms/step - loss: 0.2859 - accuracy: 0.8761\n",
            "Epoch 9/100\n",
            "117/117 [==============================] - 0s 2ms/step - loss: 0.2876 - accuracy: 0.8785\n",
            "Epoch 10/100\n",
            "117/117 [==============================] - 0s 2ms/step - loss: 0.2894 - accuracy: 0.8889\n",
            "Epoch 11/100\n",
            "117/117 [==============================] - 0s 2ms/step - loss: 0.2588 - accuracy: 0.8851\n",
            "Epoch 12/100\n",
            "117/117 [==============================] - 0s 2ms/step - loss: 0.2688 - accuracy: 0.8909\n",
            "Epoch 13/100\n",
            "117/117 [==============================] - 0s 2ms/step - loss: 0.2497 - accuracy: 0.8989\n",
            "Epoch 14/100\n",
            "117/117 [==============================] - 0s 2ms/step - loss: 0.2452 - accuracy: 0.8907\n",
            "Epoch 15/100\n",
            "117/117 [==============================] - 0s 2ms/step - loss: 0.2486 - accuracy: 0.8896\n",
            "Epoch 16/100\n",
            "117/117 [==============================] - 0s 2ms/step - loss: 0.2784 - accuracy: 0.8768\n",
            "Epoch 17/100\n",
            "117/117 [==============================] - 0s 2ms/step - loss: 0.2344 - accuracy: 0.8940\n",
            "Epoch 18/100\n",
            "117/117 [==============================] - 0s 2ms/step - loss: 0.2495 - accuracy: 0.8919\n",
            "Epoch 19/100\n",
            "117/117 [==============================] - 0s 2ms/step - loss: 0.2584 - accuracy: 0.8882\n",
            "Epoch 20/100\n",
            "117/117 [==============================] - 0s 2ms/step - loss: 0.2543 - accuracy: 0.8804\n",
            "Epoch 21/100\n",
            "117/117 [==============================] - 0s 2ms/step - loss: 0.2685 - accuracy: 0.8811\n",
            "Epoch 22/100\n",
            "117/117 [==============================] - 0s 2ms/step - loss: 0.2559 - accuracy: 0.8859\n",
            "Epoch 23/100\n",
            "117/117 [==============================] - 0s 2ms/step - loss: 0.2408 - accuracy: 0.8921\n",
            "Epoch 24/100\n",
            "117/117 [==============================] - 0s 2ms/step - loss: 0.2448 - accuracy: 0.9041\n",
            "Epoch 25/100\n",
            "117/117 [==============================] - 0s 1ms/step - loss: 0.2418 - accuracy: 0.8992\n",
            "Epoch 26/100\n",
            "117/117 [==============================] - 0s 2ms/step - loss: 0.2615 - accuracy: 0.8714\n",
            "Epoch 27/100\n",
            "117/117 [==============================] - 0s 2ms/step - loss: 0.2522 - accuracy: 0.8867\n",
            "Epoch 28/100\n",
            "117/117 [==============================] - 0s 1ms/step - loss: 0.2446 - accuracy: 0.8897\n",
            "Epoch 29/100\n",
            "117/117 [==============================] - 0s 2ms/step - loss: 0.2155 - accuracy: 0.9066\n",
            "Epoch 30/100\n",
            "117/117 [==============================] - 0s 2ms/step - loss: 0.2510 - accuracy: 0.8808\n",
            "Epoch 31/100\n",
            "117/117 [==============================] - 0s 2ms/step - loss: 0.2111 - accuracy: 0.9017\n",
            "Epoch 32/100\n",
            "117/117 [==============================] - 0s 2ms/step - loss: 0.2262 - accuracy: 0.8905\n",
            "Epoch 33/100\n",
            "117/117 [==============================] - 0s 2ms/step - loss: 0.2229 - accuracy: 0.9020\n",
            "Epoch 34/100\n",
            "117/117 [==============================] - 0s 2ms/step - loss: 0.2375 - accuracy: 0.8945\n",
            "Epoch 35/100\n",
            "117/117 [==============================] - 0s 1ms/step - loss: 0.2316 - accuracy: 0.8957\n",
            "Epoch 36/100\n",
            "117/117 [==============================] - 0s 2ms/step - loss: 0.2265 - accuracy: 0.9009\n",
            "Epoch 37/100\n",
            "117/117 [==============================] - 0s 2ms/step - loss: 0.2390 - accuracy: 0.8959\n",
            "Epoch 38/100\n",
            "117/117 [==============================] - 0s 2ms/step - loss: 0.2438 - accuracy: 0.8915\n",
            "Epoch 39/100\n",
            "117/117 [==============================] - 0s 2ms/step - loss: 0.2241 - accuracy: 0.9036\n",
            "Epoch 40/100\n",
            "117/117 [==============================] - 0s 2ms/step - loss: 0.2454 - accuracy: 0.8999\n",
            "Epoch 41/100\n",
            "117/117 [==============================] - 0s 2ms/step - loss: 0.2350 - accuracy: 0.8913\n",
            "Epoch 42/100\n",
            "117/117 [==============================] - 0s 2ms/step - loss: 0.2213 - accuracy: 0.9049\n",
            "Epoch 43/100\n",
            "117/117 [==============================] - 0s 2ms/step - loss: 0.2256 - accuracy: 0.8938\n",
            "Epoch 44/100\n",
            "117/117 [==============================] - 0s 2ms/step - loss: 0.2285 - accuracy: 0.8909\n",
            "Epoch 45/100\n",
            "117/117 [==============================] - 0s 2ms/step - loss: 0.2174 - accuracy: 0.8929\n",
            "Epoch 46/100\n",
            "117/117 [==============================] - 0s 2ms/step - loss: 0.2136 - accuracy: 0.9046\n",
            "Epoch 47/100\n",
            "117/117 [==============================] - 0s 2ms/step - loss: 0.2239 - accuracy: 0.9022\n",
            "Epoch 48/100\n",
            "117/117 [==============================] - 0s 2ms/step - loss: 0.2266 - accuracy: 0.8972\n",
            "Epoch 49/100\n",
            "117/117 [==============================] - 0s 2ms/step - loss: 0.2227 - accuracy: 0.9095\n",
            "Epoch 50/100\n",
            "117/117 [==============================] - 0s 2ms/step - loss: 0.2359 - accuracy: 0.8952\n",
            "Epoch 51/100\n",
            "117/117 [==============================] - 0s 2ms/step - loss: 0.2204 - accuracy: 0.9079\n",
            "Epoch 52/100\n",
            "117/117 [==============================] - 0s 2ms/step - loss: 0.1884 - accuracy: 0.9109\n",
            "Epoch 53/100\n",
            "117/117 [==============================] - 0s 2ms/step - loss: 0.2487 - accuracy: 0.8720\n",
            "Epoch 54/100\n",
            "117/117 [==============================] - 0s 1ms/step - loss: 0.1892 - accuracy: 0.9133\n",
            "Epoch 55/100\n",
            "117/117 [==============================] - 0s 2ms/step - loss: 0.1928 - accuracy: 0.9236\n",
            "Epoch 56/100\n",
            "117/117 [==============================] - 0s 2ms/step - loss: 0.1995 - accuracy: 0.9110\n",
            "Epoch 57/100\n",
            "117/117 [==============================] - 0s 2ms/step - loss: 0.2345 - accuracy: 0.8897\n",
            "Epoch 58/100\n",
            "117/117 [==============================] - 0s 2ms/step - loss: 0.2194 - accuracy: 0.8971\n",
            "Epoch 59/100\n",
            "117/117 [==============================] - 0s 2ms/step - loss: 0.1873 - accuracy: 0.9230\n",
            "Epoch 60/100\n",
            "117/117 [==============================] - 0s 2ms/step - loss: 0.1978 - accuracy: 0.9037\n",
            "Epoch 61/100\n",
            "117/117 [==============================] - 0s 2ms/step - loss: 0.2291 - accuracy: 0.8925\n",
            "Epoch 62/100\n",
            "117/117 [==============================] - 0s 2ms/step - loss: 0.1895 - accuracy: 0.9164\n",
            "Epoch 63/100\n",
            "117/117 [==============================] - 0s 2ms/step - loss: 0.1844 - accuracy: 0.9164\n",
            "Epoch 64/100\n",
            "117/117 [==============================] - 0s 2ms/step - loss: 0.2050 - accuracy: 0.9106\n",
            "Epoch 65/100\n",
            "117/117 [==============================] - 0s 2ms/step - loss: 0.2187 - accuracy: 0.9092\n",
            "Epoch 66/100\n",
            "117/117 [==============================] - 0s 2ms/step - loss: 0.2109 - accuracy: 0.9083\n",
            "Epoch 67/100\n",
            "117/117 [==============================] - 0s 2ms/step - loss: 0.2150 - accuracy: 0.8982\n",
            "Epoch 68/100\n",
            "117/117 [==============================] - 0s 2ms/step - loss: 0.2098 - accuracy: 0.9039\n",
            "Epoch 69/100\n",
            "117/117 [==============================] - 0s 2ms/step - loss: 0.1930 - accuracy: 0.9035\n",
            "Epoch 70/100\n",
            "117/117 [==============================] - 0s 2ms/step - loss: 0.2032 - accuracy: 0.9063\n",
            "Epoch 71/100\n",
            "117/117 [==============================] - 0s 2ms/step - loss: 0.1874 - accuracy: 0.9204\n",
            "Epoch 72/100\n",
            "117/117 [==============================] - 0s 2ms/step - loss: 0.2203 - accuracy: 0.9101\n",
            "Epoch 73/100\n",
            "117/117 [==============================] - 0s 2ms/step - loss: 0.2100 - accuracy: 0.9103\n",
            "Epoch 74/100\n",
            "117/117 [==============================] - 0s 2ms/step - loss: 0.2083 - accuracy: 0.9150\n",
            "Epoch 75/100\n",
            "117/117 [==============================] - 0s 2ms/step - loss: 0.2177 - accuracy: 0.9097\n",
            "Epoch 76/100\n",
            "117/117 [==============================] - 0s 1ms/step - loss: 0.1988 - accuracy: 0.9137\n",
            "Epoch 77/100\n",
            "117/117 [==============================] - 0s 2ms/step - loss: 0.1936 - accuracy: 0.9236\n",
            "Epoch 78/100\n",
            "117/117 [==============================] - 0s 2ms/step - loss: 0.1857 - accuracy: 0.9161\n",
            "Epoch 79/100\n",
            "117/117 [==============================] - 0s 2ms/step - loss: 0.1865 - accuracy: 0.9091\n",
            "Epoch 80/100\n",
            "117/117 [==============================] - 0s 2ms/step - loss: 0.2042 - accuracy: 0.9139\n",
            "Epoch 81/100\n",
            "117/117 [==============================] - 0s 2ms/step - loss: 0.1908 - accuracy: 0.9198\n",
            "Epoch 82/100\n",
            "117/117 [==============================] - 0s 2ms/step - loss: 0.1876 - accuracy: 0.9231\n",
            "Epoch 83/100\n",
            "117/117 [==============================] - 0s 2ms/step - loss: 0.1831 - accuracy: 0.9223\n",
            "Epoch 84/100\n",
            "117/117 [==============================] - 0s 2ms/step - loss: 0.1821 - accuracy: 0.9191\n",
            "Epoch 85/100\n",
            "117/117 [==============================] - 0s 2ms/step - loss: 0.1993 - accuracy: 0.9076\n",
            "Epoch 86/100\n",
            "117/117 [==============================] - 0s 2ms/step - loss: 0.1681 - accuracy: 0.9208\n",
            "Epoch 87/100\n",
            "117/117 [==============================] - 0s 2ms/step - loss: 0.1896 - accuracy: 0.9050\n",
            "Epoch 88/100\n",
            "117/117 [==============================] - 0s 2ms/step - loss: 0.1695 - accuracy: 0.9281\n",
            "Epoch 89/100\n",
            "117/117 [==============================] - 0s 2ms/step - loss: 0.1737 - accuracy: 0.9321\n",
            "Epoch 90/100\n",
            "117/117 [==============================] - 0s 2ms/step - loss: 0.1896 - accuracy: 0.9205\n",
            "Epoch 91/100\n",
            "117/117 [==============================] - 0s 2ms/step - loss: 0.1960 - accuracy: 0.9289\n",
            "Epoch 92/100\n",
            "117/117 [==============================] - 0s 2ms/step - loss: 0.2040 - accuracy: 0.9024\n",
            "Epoch 93/100\n",
            "117/117 [==============================] - 0s 2ms/step - loss: 0.1694 - accuracy: 0.9191\n",
            "Epoch 94/100\n",
            "117/117 [==============================] - 0s 2ms/step - loss: 0.1971 - accuracy: 0.9090\n",
            "Epoch 95/100\n",
            "117/117 [==============================] - 0s 2ms/step - loss: 0.2103 - accuracy: 0.9108\n",
            "Epoch 96/100\n",
            "117/117 [==============================] - 0s 2ms/step - loss: 0.1575 - accuracy: 0.9333\n",
            "Epoch 97/100\n",
            "117/117 [==============================] - 0s 1ms/step - loss: 0.1762 - accuracy: 0.9191\n",
            "Epoch 98/100\n",
            "117/117 [==============================] - 0s 2ms/step - loss: 0.1765 - accuracy: 0.9272\n",
            "Epoch 99/100\n",
            "117/117 [==============================] - 0s 2ms/step - loss: 0.1836 - accuracy: 0.9287\n",
            "Epoch 100/100\n",
            "117/117 [==============================] - 0s 2ms/step - loss: 0.1665 - accuracy: 0.9248\n"
          ],
          "name": "stdout"
        }
      ]
    },
    {
      "cell_type": "code",
      "metadata": {
        "colab": {
          "base_uri": "https://localhost:8080/",
          "height": 295
        },
        "id": "s6IDzT_ufEVl",
        "outputId": "04a00a18-e3f3-4d24-973f-9a0b343910c7"
      },
      "source": [
        "plt.plot(hist.history['loss'])\n",
        "plt.title('Model loss')\n",
        "plt.ylabel('Loss')\n",
        "plt.xlabel('Epoch')\n",
        "plt.legend(['Train', 'Val'], loc='upper right')\n",
        "plt.show()"
      ],
      "execution_count": 174,
      "outputs": [
        {
          "output_type": "display_data",
          "data": {
            "image/png": "[encoded data removed]",
            "text/plain": [
              "<Figure size 432x288 with 1 Axes>"
            ]
          },
          "metadata": {
            "tags": [],
            "needs_background": "light"
          }
        }
      ]
    },
    {
      "cell_type": "code",
      "metadata": {
        "colab": {
          "base_uri": "https://localhost:8080/"
        },
        "id": "2OHnuBcbh4yN",
        "outputId": "62be3de8-7354-4bb6-b4f6-0ab2879fb694"
      },
      "source": [
        "_, accuracy = model.evaluate(X_test,Y_test)\n",
        "print('Accuracy: %.2f' % (accuracy*100))"
      ],
      "execution_count": 175,
      "outputs": [
        {
          "output_type": "stream",
          "text": [
            "10/10 [==============================] - 0s 2ms/step - loss: 0.2020 - accuracy: 0.9110\n",
            "Accuracy: 91.10\n"
          ],
          "name": "stdout"
        }
      ]
    },
    {
      "cell_type": "code",
      "metadata": {
        "colab": {
          "base_uri": "https://localhost:8080/"
        },
        "id": "tqnPo7SviyLl",
        "outputId": "8d8b9289-10dc-40e8-d41f-16439f759802"
      },
      "source": [
        "_, accuracy = model.evaluate(X_train,Y_train)\n",
        "print('Accuracy: %.2f' % (accuracy*100))"
      ],
      "execution_count": 176,
      "outputs": [
        {
          "output_type": "stream",
          "text": [
            "37/37 [==============================] - 0s 1ms/step - loss: 0.1704 - accuracy: 0.9238\n",
            "Accuracy: 92.38\n"
          ],
          "name": "stdout"
        }
      ]
    },
    {
      "cell_type": "code",
      "metadata": {
        "id": "bDeWz7nezc8X"
      },
      "source": [
        ""
      ],
      "execution_count": 176,
      "outputs": []
    }
  ]
}